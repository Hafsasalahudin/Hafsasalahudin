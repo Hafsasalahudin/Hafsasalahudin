{
  "cells": [
    {
      "cell_type": "code",
      "source": [
        "class person: # Parent Class\n",
        "   def __init__(self, name , age , gender):\n",
        "    self.name = name\n",
        "    self.age = age\n",
        "    self.gender = gender\n",
        "   def greet(self):\n",
        "    print(\"Hello Person\")\n",
        "class student(person): # Child Class\n",
        "  def __init__(self,name,age,gender,studentid,fees):\n",
        "    person.__init__(self,name,age,gender)\n",
        "    self.studentid = studentid\n",
        "    self.fees = fees\n",
        "  def greet(self):\n",
        "    print(\"Hello Student\")\n",
        "    print(\"name=\",self.name)\n",
        "    print(\"age=\",self.age)\n",
        "    print(\"gendewr=\",self.gender)\n",
        "stud = student('Gabriel' , 56 , 'Male' , 45 , 345678)\n",
        "stud.greet() # greet() method defined in subclass will be triggered as \"stud\" is\n",
        "person1 = person('Gabriel' , 56 , 'Male')\n",
        "person1.greet() # greet() method defined in superclass will be triggered because"
      ],
      "metadata": {
        "id": "r2rOlTOV67Ib",
        "outputId": "d1e0328d-50fa-4925-87aa-9486cd9aef38",
        "colab": {
          "base_uri": "https://localhost:8080/"
        }
      },
      "execution_count": 3,
      "outputs": [
        {
          "output_type": "stream",
          "name": "stdout",
          "text": [
            "Hello Student\n",
            "name= Gabriel\n",
            "age= 56\n",
            "gendewr= Male\n",
            "Hello Person\n"
          ]
        }
      ]
    },
    {
      "cell_type": "code",
      "source": [
        "class myiter:\n",
        " ## def __init__(self):\n",
        "   #self.num = 0\n",
        "  def __iter__(self):\n",
        "    self.num = 1\n",
        "    return self\n",
        "  def __next__(self):\n",
        "    if self.num <= 10:\n",
        "      val = self.num\n",
        "      self.num += 1\n",
        "      return val\n",
        "    else:\n",
        "      raise StopIteration\n",
        "mynum = myiter()\n",
        "iter1 = iter(mynum)\n",
        "for i in iter1:\n",
        "  print(i)"
      ],
      "metadata": {
        "id": "BLn85xcYA_0D",
        "outputId": "0dcb7923-fa4e-4053-b599-39a4b4014209",
        "colab": {
          "base_uri": "https://localhost:8080/",
          "height": 214
        }
      },
      "execution_count": 7,
      "outputs": [
        {
          "ename": "TypeError",
          "evalue": "'myiter' object is not iterable",
          "output_type": "error",
          "traceback": [
            "\u001b[0;31m---------------------------------------------------------------------------\u001b[0m",
            "\u001b[0;31mTypeError\u001b[0m                                 Traceback (most recent call last)",
            "\u001b[0;32m<ipython-input-7-88bac418d539>\u001b[0m in \u001b[0;36m<cell line: 0>\u001b[0;34m()\u001b[0m\n\u001b[1;32m     13\u001b[0m       \u001b[0;32mraise\u001b[0m \u001b[0mStopIteration\u001b[0m\u001b[0;34m\u001b[0m\u001b[0;34m\u001b[0m\u001b[0m\n\u001b[1;32m     14\u001b[0m \u001b[0mmynum\u001b[0m \u001b[0;34m=\u001b[0m \u001b[0mmyiter\u001b[0m\u001b[0;34m(\u001b[0m\u001b[0;34m)\u001b[0m\u001b[0;34m\u001b[0m\u001b[0;34m\u001b[0m\u001b[0m\n\u001b[0;32m---> 15\u001b[0;31m \u001b[0miter1\u001b[0m \u001b[0;34m=\u001b[0m \u001b[0miter\u001b[0m\u001b[0;34m(\u001b[0m\u001b[0mmynum\u001b[0m\u001b[0;34m)\u001b[0m\u001b[0;34m\u001b[0m\u001b[0;34m\u001b[0m\u001b[0m\n\u001b[0m\u001b[1;32m     16\u001b[0m \u001b[0;32mfor\u001b[0m \u001b[0mi\u001b[0m \u001b[0;32min\u001b[0m \u001b[0miter1\u001b[0m\u001b[0;34m:\u001b[0m\u001b[0;34m\u001b[0m\u001b[0;34m\u001b[0m\u001b[0m\n\u001b[1;32m     17\u001b[0m   \u001b[0mprint\u001b[0m\u001b[0;34m(\u001b[0m\u001b[0mi\u001b[0m\u001b[0;34m)\u001b[0m\u001b[0;34m\u001b[0m\u001b[0;34m\u001b[0m\u001b[0m\n",
            "\u001b[0;31mTypeError\u001b[0m: 'myiter' object is not iterable"
          ]
        }
      ]
    }
  ],
  "metadata": {
    "interpreter": {
      "hash": "f4041ee05ab07c15354d6207e763f17a216c3f5ccf08906343c2b4fd3fa7a6fb"
    },
    "kernelspec": {
      "display_name": "Python 3 (ipykernel)",
      "language": "python",
      "name": "python3"
    },
    "language_info": {
      "codemirror_mode": {
        "name": "ipython",
        "version": 3
      },
      "file_extension": ".py",
      "mimetype": "text/x-python",
      "name": "python",
      "nbconvert_exporter": "python",
      "pygments_lexer": "ipython3",
      "version": "3.10.12"
    },
    "colab": {
      "provenance": []
    }
  },
  "nbformat": 4,
  "nbformat_minor": 0
}